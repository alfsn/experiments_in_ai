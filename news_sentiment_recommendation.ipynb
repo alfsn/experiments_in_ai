{
 "cells": [
  {
   "cell_type": "markdown",
   "metadata": {},
   "source": [
    "The following work will implement the following:\n",
    "1) given a stock ticker, we will retrieve latest news of the company (news agent)\n",
    "2) given the news, the sentiment agent will evaluate the linked sentiment to the news\n",
    "3) given the sentiment, a final agent will emit a recommendation to buy, sell or hold the ticker."
   ]
  },
  {
   "cell_type": "markdown",
   "metadata": {},
   "source": [
    "Discussion with claude at\n",
    "https://claude.ai/chat/4a1f5da0-e13e-441d-9597-af8626152811"
   ]
  },
  {
   "cell_type": "code",
   "execution_count": 1,
   "metadata": {},
   "outputs": [],
   "source": [
    "from langchain.agents import Tool, AgentExecutor\n",
    "from langchain.prompts import PromptTemplate \n",
    "from langchain import LLMChain\n",
    "from langchain_openai import OpenAI\n",
    "from langchain.tools import DuckDuckGoSearchRun\n",
    "from langchain.agents import create_react_agent\n",
    "from langchain.prompts import ChatPromptTemplate"
   ]
  },
  {
   "cell_type": "code",
   "execution_count": 2,
   "metadata": {},
   "outputs": [],
   "source": [
    "from typing import List\n",
    "import os\n",
    "from dotenv import load_dotenv\n"
   ]
  },
  {
   "cell_type": "code",
   "execution_count": 3,
   "metadata": {},
   "outputs": [
    {
     "data": {
      "text/plain": [
       "True"
      ]
     },
     "execution_count": 3,
     "metadata": {},
     "output_type": "execute_result"
    }
   ],
   "source": [
    "load_dotenv()"
   ]
  },
  {
   "cell_type": "code",
   "execution_count": 4,
   "metadata": {},
   "outputs": [
    {
     "data": {
      "text/plain": [
       "str"
      ]
     },
     "execution_count": 4,
     "metadata": {},
     "output_type": "execute_result"
    }
   ],
   "source": [
    "type(os.environ[\"OPENAI_API_KEY\"])"
   ]
  },
  {
   "cell_type": "code",
   "execution_count": 5,
   "metadata": {},
   "outputs": [],
   "source": [
    "def test_openai_connection():\n",
    "    try:\n",
    "        llm = OpenAI(temperature=0)\n",
    "        \n",
    "        # Create a simple prompt\n",
    "        prompt = PromptTemplate(\n",
    "            input_variables=[\"question\"],\n",
    "            template=\"Question: {question}\\nAnswer:\"\n",
    "        )\n",
    "        \n",
    "        # Create a chain\n",
    "        chain = LLMChain(llm=llm, prompt=prompt)\n",
    "        \n",
    "        # Try to run the chain\n",
    "        response = chain.run(\"Is this connection working?\")\n",
    "        \n",
    "        # If we get here, the API call was successful\n",
    "        print(\"API connection successful!\")\n",
    "        print(\"Response:\", response.strip())\n",
    "        return True\n",
    "    except Exception as e:\n",
    "        print(\"API connection failed.\")\n",
    "        print(\"Error:\", str(e))\n",
    "        return False"
   ]
  },
  {
   "cell_type": "code",
   "execution_count": 6,
   "metadata": {},
   "outputs": [],
   "source": [
    "#test_openai_connection()"
   ]
  },
  {
   "cell_type": "markdown",
   "metadata": {},
   "source": [
    "# News agent"
   ]
  },
  {
   "cell_type": "code",
   "execution_count": 7,
   "metadata": {},
   "outputs": [],
   "source": [
    "search = DuckDuckGoSearchRun()"
   ]
  },
  {
   "cell_type": "code",
   "execution_count": 8,
   "metadata": {},
   "outputs": [],
   "source": [
    "tools = [\n",
    "    Tool(\n",
    "        name=\"Search\",\n",
    "        func=search.run,\n",
    "        description=\"this will search for stock ticker news\"\n",
    "    )\n",
    "]"
   ]
  },
  {
   "cell_type": "code",
   "execution_count": 9,
   "metadata": {},
   "outputs": [],
   "source": [
    "prompt = ChatPromptTemplate.from_template(\"\"\"Answer the following questions as best you can. You have access to the following tools:\n",
    "\n",
    "{tools}\n",
    "\n",
    "Use the following format:\n",
    "\n",
    "Question: the input question you must answer\n",
    "Thought: you should always think about what to do\n",
    "Action: the action to take, should be one of [{tool_names}]\n",
    "Action Input: the input to the action\n",
    "Observation: the result of the action\n",
    "... (this Thought/Action/Action Input/Observation can repeat N times)\n",
    "Thought: I now know the final answer\n",
    "Final Answer: the final answer to the original input question\n",
    "\n",
    "Question: {input}\n",
    "{agent_scratchpad}\"\"\")"
   ]
  },
  {
   "cell_type": "code",
   "execution_count": 10,
   "metadata": {},
   "outputs": [],
   "source": [
    "# Define the LLM\n",
    "llm = OpenAI(temperature=0)"
   ]
  },
  {
   "cell_type": "markdown",
   "metadata": {},
   "source": [
    "# Sentiment agent"
   ]
  },
  {
   "cell_type": "markdown",
   "metadata": {},
   "source": [
    "The following class implements a way through which the sentiment agent\n",
    "1) waits for the news agent to finish\n",
    "2) parses the response the news agent gives, incorporating \"Final Answer:\" as the key place, as defined by our prompt"
   ]
  },
  {
   "cell_type": "markdown",
   "metadata": {},
   "source": [
    "Agent definition:"
   ]
  },
  {
   "cell_type": "code",
   "execution_count": 11,
   "metadata": {},
   "outputs": [],
   "source": [
    "agent = create_react_agent(llm, tools, prompt)"
   ]
  },
  {
   "cell_type": "code",
   "execution_count": 12,
   "metadata": {},
   "outputs": [],
   "source": [
    "agent_executor = AgentExecutor.from_agent_and_tools(\n",
    "    agent=agent, \n",
    "    tools=tools, \n",
    "    verbose=True,\n",
    "    handle_parsing_errors=True\n",
    ")"
   ]
  },
  {
   "cell_type": "code",
   "execution_count": 18,
   "metadata": {},
   "outputs": [],
   "source": [
    "def analyze_stock(ticker):\n",
    "    query = f\"What are the latest news headlines about {ticker} stock?\"\n",
    "    \n",
    "    search_results = search.run(query)    \n",
    "    result = agent_executor.invoke({\"input\": f\"Analyze these news headlines about {ticker} stock: {search_results} and emit a final answer which recommends either a BUY, a HOLD or a SELL rating\"})\n",
    "    \n",
    "    return search_results, result[\"output\"]"
   ]
  },
  {
   "cell_type": "code",
   "execution_count": 19,
   "metadata": {},
   "outputs": [
    {
     "name": "stdout",
     "output_type": "stream",
     "text": [
      "\n",
      "\n",
      "\u001b[1m> Entering new AgentExecutor chain...\u001b[0m\n",
      "\u001b[32;1m\u001b[1;3mThought: I should use the Search tool to find news about TSLA stock\n",
      "Action: Search\n",
      "Action Input: Union[str, Dict[str, Any]] = 'TSLA stock news'\u001b[0m\u001b[36;1m\u001b[1;3m2003. 140,473. Elon Musk. www.tesla.com. Tesla, Inc. designs, develops, manufactures, leases, and sells electric vehicles, and energy generation and storage systems in the United States, China, and internationally. The company operates in two segments, Automotive, and Energy Generation and Storage. The Automotive segment offers electric ... Discover real-time Tesla, Inc. Common Stock (TSLA) stock prices, quotes, historical data, news, and Insights for informed trading and investment decisions. Stay ahead with Nasdaq. RBC Cuts Tesla Price Target From $293 to $227. Tesla price target was cut to $227 from $293 by RBC Capital Market analyst Tom Narayan, saying he was lowering the estimates for the company's robotaxi venture and was allocating a bigger revenue shar... Tesla Delivery Results Are Coming. Brace For More Bad News. Key Takeaways. Tesla shares fell more than 3% during intraday trading Thursday after reports of pay increases for some U.S. workers. The wage raises at the electric vehicle maker come amid growing ... 34 Wall Street research analysts have issued 12-month target prices for Tesla's stock. Their TSLA share price targets range from $85.00 to $310.00. On average, they predict the company's share price to reach $187.30 in the next twelve months. This suggests that the stock has a possible downside of 5.3%.\u001b[0m\u001b[32;1m\u001b[1;3mI should analyze the news headlines to get a better understanding of the current state of TSLA stock\n",
      "Action: Analyze\n",
      "Action Input: News headlines about TSLA stock\u001b[0mAnalyze is not a valid tool, try one of [Search].\u001b[32;1m\u001b[1;3mI should use the Search tool to find the latest news about TSLA stock\n",
      "Action: Search\n",
      "Action Input: Union[str, Dict[str, Any]] = 'TSLA stock latest news'\u001b[0m\u001b[36;1m\u001b[1;3mTSLA Competitors. $ Market cap P/E ratio $ Price 1d change 52-week range. View Tesla, Inc. TSLA stock quote prices, financial information, real-time forecasts, and company news from CNN. Discover real-time Tesla, Inc. Common Stock (TSLA) stock prices, quotes, historical data, news, and Insights for informed trading and investment decisions. Stay ahead with Nasdaq. RBC Cuts Tesla Price Target From $293 to $227. Tesla price target was cut to $227 from $293 by RBC Capital Market analyst Tom Narayan, saying he was lowering the estimates for the company's robotaxi venture and was allocating a bigger revenue shar... Tesla Delivery Results Are Coming. Brace For More Bad News. 2003. 140,473. Elon Musk. www.tesla.com. Tesla, Inc. designs, develops, manufactures, leases, and sells electric vehicles, and energy generation and storage systems in the United States, China, and internationally. The company operates in two segments, Automotive, and Energy Generation and Storage. The Automotive segment offers electric ... Garnering the regulatory go-ahead, Tesla stock yet again made a big leap, surging to as much as $198.87 per share on April 29. However, hitting such prices marked the peak of this would-be ...\u001b[0m\u001b[32;1m\u001b[1;3mI should analyze the latest news to get a better understanding of the current state of TSLA stock\n",
      "Action: Analyze\n",
      "Action Input: Latest news about TSLA stock\u001b[0mAnalyze is not a valid tool, try one of [Search].\u001b[32;1m\u001b[1;3mI should use the Search tool to find stock price predictions for TSLA\n",
      "Action: Search\n",
      "Action Input: Union[str, Dict[str, Any]] = 'TSLA stock price predictions'\u001b[0m\u001b[36;1m\u001b[1;3mBased on short-term price targets offered by 33 analysts, the average price target for Tesla comes to $177.81. The forecasts range from a low of $22.86 to a high of $310.00. The average price ... Stock Price Forecast. The 32 analysts with 12-month price forecasts for Tesla stock have an average target of 184.15, with a low estimate of 22.86 and a high estimate of 310. The average target predicts a decrease of -6.94% from the current stock price of 197.88. TSLA Competitors. $ Market cap P/E ratio $ Price 1d change 52-week range. View Tesla, Inc. TSLA stock quote prices, financial information, real-time forecasts, and company news from CNN. With Tesla's (NASDAQ: TSLA) crucial shareholder vote just one day away, Cathie Wood and her Ark Invest fund has raised its price target on TSLA stock to $2,600 by 2029. Indeed, the \"disruptive ... Analyst Forecast. According to 35 analysts, the average rating for TSLA stock is \"Hold.\" The 12-month stock price forecast is $184.15, which is a decrease of -6.94% from the latest price.\u001b[0m\u001b[32;1m\u001b[1;3mI should analyze the stock price predictions to make an informed decision about buying, holding, or selling TSLA stock\n",
      "Action: Analyze\n",
      "Action Input: Stock price predictions for TSLA\u001b[0mAnalyze is not a valid tool, try one of [Search].\u001b[32;1m\u001b[1;3mI now know the final answer\n",
      "Final Answer: Based on the stock price predictions and news headlines, it is recommended to HOLD TSLA stock. The stock has a possible downside of 5.3% and the average price target is $184.15. However, it is important to continue monitoring news and updates about the company, as well as any potential market changes that could affect the stock price.\u001b[0m\n",
      "\n",
      "\u001b[1m> Finished chain.\u001b[0m\n",
      "Raw search results:\n",
      "A rare streak of tranquility in Tesla Inc. shares is about to end, as investors brace for three crucial events over the coming six weeks that could bring back the wild swings often associated with ... The latest news about Tesla (NASDAQ: TSLA) may have sent its shares soaring late last month, but almost as soon as it began, the Tesla stock rebound seems to be losing momentum. This is not ... Tesla is on track to notch a $1 trillion valuation, and a big surge in the electric car maker's stock could be coming as soon as it unveils key artificial intelligence and robotics initiatives ... 34 Wall Street research analysts have issued 12-month target prices for Tesla's stock. Their TSLA share price targets range from $85.00 to $310.00. On average, they predict the company's share price to reach $187.30 in the next twelve months. This suggests that the stock has a possible downside of 5.3%. Stock Market News, April 24, 2024: Nasdaq Closes Higher; Meta Stock Tumbles After Earnings Tesla shares soar after the EV maker's results\n",
      "\n",
      "Agent's analysis:\n",
      "Based on the stock price predictions and news headlines, it is recommended to HOLD TSLA stock. The stock has a possible downside of 5.3% and the average price target is $184.15. However, it is important to continue monitoring news and updates about the company, as well as any potential market changes that could affect the stock price.\n"
     ]
    }
   ],
   "source": [
    "if __name__ == \"__main__\":\n",
    "    ticker = input(\"Enter a stock ticker symbol: \")\n",
    "    try:\n",
    "        raw_news, analysis = analyze_stock(ticker)\n",
    "        print(\"Raw search results:\")\n",
    "        print(raw_news)\n",
    "        print(\"\\nAgent's analysis:\")\n",
    "        print(analysis)\n",
    "    except Exception as e:\n",
    "        print(f\"An error occurred: {e}\")\n",
    "        print(\"Please check your API key and network connection.\")"
   ]
  },
  {
   "cell_type": "code",
   "execution_count": null,
   "metadata": {},
   "outputs": [],
   "source": []
  }
 ],
 "metadata": {
  "kernelspec": {
   "display_name": "Python 3",
   "language": "python",
   "name": "python3"
  },
  "language_info": {
   "codemirror_mode": {
    "name": "ipython",
    "version": 3
   },
   "file_extension": ".py",
   "mimetype": "text/x-python",
   "name": "python",
   "nbconvert_exporter": "python",
   "pygments_lexer": "ipython3",
   "version": "3.11.3"
  }
 },
 "nbformat": 4,
 "nbformat_minor": 2
}

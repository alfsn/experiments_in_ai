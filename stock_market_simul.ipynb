{
 "cells": [
  {
   "cell_type": "markdown",
   "metadata": {},
   "source": [
    "The following work will implement the following:\n",
    "1) given a stock ticker, we will retrieve latest news of the company (news agent)\n",
    "2) given the news, the sentiment agent will evaluate the linked sentiment to the news\n",
    "3) given the sentiment, a final agent will emit a recommendation to buy, sell or hold the ticker."
   ]
  },
  {
   "cell_type": "markdown",
   "metadata": {},
   "source": [
    "Discussion with claude at\n",
    "https://claude.ai/chat/4a1f5da0-e13e-441d-9597-af8626152811"
   ]
  },
  {
   "cell_type": "code",
   "execution_count": 1,
   "metadata": {},
   "outputs": [],
   "source": [
    "from langchain.agents import Tool, AgentExecutor\n",
    "from langchain.prompts import PromptTemplate \n",
    "from langchain import LLMChain\n",
    "from langchain.prompts import ChatPromptTemplate\n",
    "import langgraph\n",
    "from langchain.chat_models import ChatOpenAI\n",
    "from langchain.prompts import ChatPromptTemplate"
   ]
  },
  {
   "cell_type": "code",
   "execution_count": 2,
   "metadata": {},
   "outputs": [],
   "source": [
    "from typing import List\n",
    "import os\n",
    "from dotenv import load_dotenv\n",
    "import random\n",
    "from datetime import datetime, timedelta\n",
    "import numpy as np\n",
    "import logging\n"
   ]
  },
  {
   "cell_type": "code",
   "execution_count": 3,
   "metadata": {},
   "outputs": [],
   "source": [
    "logging.basicConfig(level=logging.INFO, format='%(asctime)s - %(name)s - %(levelname)s - %(message)s')"
   ]
  },
  {
   "cell_type": "code",
   "execution_count": 4,
   "metadata": {},
   "outputs": [
    {
     "data": {
      "text/plain": [
       "True"
      ]
     },
     "execution_count": 4,
     "metadata": {},
     "output_type": "execute_result"
    }
   ],
   "source": [
    "load_dotenv()"
   ]
  },
  {
   "cell_type": "code",
   "execution_count": 5,
   "metadata": {},
   "outputs": [
    {
     "data": {
      "text/plain": [
       "str"
      ]
     },
     "execution_count": 5,
     "metadata": {},
     "output_type": "execute_result"
    }
   ],
   "source": [
    "type(os.environ[\"OPENAI_API_KEY\"])"
   ]
  },
  {
   "cell_type": "code",
   "execution_count": 6,
   "metadata": {},
   "outputs": [],
   "source": [
    "def test_openai_connection():\n",
    "    try:\n",
    "        llm = OpenAI(temperature=0)\n",
    "        \n",
    "        # Create a simple prompt\n",
    "        prompt = PromptTemplate(\n",
    "            input_variables=[\"question\"],\n",
    "            template=\"Question: {question}\\nAnswer:\"\n",
    "        )\n",
    "        \n",
    "        # Create a chain\n",
    "        chain = LLMChain(llm=llm, prompt=prompt)\n",
    "        \n",
    "        # Try to run the chain\n",
    "        response = chain.run(\"Is this connection working?\")\n",
    "        \n",
    "        # If we get here, the API call was successful\n",
    "        print(\"API connection successful!\")\n",
    "        print(\"Response:\", response.strip())\n",
    "        return True\n",
    "    except Exception as e:\n",
    "        print(\"API connection failed.\")\n",
    "        print(\"Error:\", str(e))\n",
    "        return False"
   ]
  },
  {
   "cell_type": "code",
   "execution_count": 7,
   "metadata": {},
   "outputs": [],
   "source": [
    "#test_openai_connection()"
   ]
  },
  {
   "cell_type": "markdown",
   "metadata": {},
   "source": [
    "# Base classes"
   ]
  },
  {
   "cell_type": "code",
   "execution_count": 8,
   "metadata": {},
   "outputs": [],
   "source": [
    "class StockAgent:\n",
    "    def __init__(self, role, llm):\n",
    "        self.role = role\n",
    "        self.llm = llm\n",
    "        self.memory = []\n",
    "\n",
    "    def act(self, state):\n",
    "        # ABC to initiate actions\n",
    "        pass"
   ]
  },
  {
   "cell_type": "markdown",
   "metadata": {},
   "source": [
    "# Stock market"
   ]
  },
  {
   "cell_type": "code",
   "execution_count": 9,
   "metadata": {},
   "outputs": [],
   "source": [
    "class Stock:\n",
    "    def __init__(self, symbol, initial_price):\n",
    "        self.symbol = symbol\n",
    "        self.price = initial_price\n",
    "        self.volume = 0\n",
    "        self.history = []\n",
    "\n",
    "    def update_price(self, change_percent):\n",
    "        self.price *= (1 + change_percent)\n",
    "        self.price = round(self.price, 2)"
   ]
  },
  {
   "cell_type": "code",
   "execution_count": 10,
   "metadata": {},
   "outputs": [],
   "source": [
    "class StockMarket:\n",
    "    def __init__(self):\n",
    "        self.stocks = {\n",
    "            \"ABC\": Stock(\"ABC\", 150),\n",
    "            \"DEF\": Stock(\"DEF\", 2800),\n",
    "            \"GHI\": Stock(\"GHI\", 3300),\n",
    "        }\n",
    "        self.current_time = datetime.now()\n",
    "        self.events = []\n",
    "\n",
    "    def update(self):\n",
    "        self.current_time += timedelta(minutes=5)  # Simulate 5-minute intervals\n",
    "        self._update_stock_prices()\n",
    "        self._generate_events()\n",
    "        self._record_history()\n",
    "\n",
    "    def _update_stock_prices(self):\n",
    "        for stock in self.stocks.values():\n",
    "            # Simulate price movement with some randomness\n",
    "            change_percent = random.uniform(-0.02, 0.02)  # -2% to +2% change\n",
    "            stock.update_price(change_percent)\n",
    "            stock.volume = random.randint(1000, 100000)  # Simulate trading volume\n",
    "\n",
    "    def _generate_events(self):\n",
    "        # Randomly generate market events\n",
    "        if random.random() < 0.05:  # 5% chance of an event occurring\n",
    "            event_types = [\n",
    "                \"Earnings Report\",\n",
    "                \"Economic Indicator Release\",\n",
    "                \"Geopolitical Event\",\n",
    "                \"Industry News\",\n",
    "                \"Regulatory Announcement\"\n",
    "            ]\n",
    "            event = random.choice(event_types)\n",
    "            affected_stock = random.choice(list(self.stocks.keys()))\n",
    "            self.events.append(f\"{event} affecting {affected_stock}\")\n",
    "\n",
    "    def _record_history(self):\n",
    "        for stock in self.stocks.values():\n",
    "            stock.history.append({\n",
    "                \"time\": self.current_time,\n",
    "                \"price\": stock.price,\n",
    "                \"volume\": stock.volume\n",
    "            })\n",
    "\n",
    "\n",
    "    def get_state(self):\n",
    "        return {\n",
    "            \"time\": self.current_time,\n",
    "            \"stocks\": {symbol: {\"price\": stock.price, \"volume\": stock.volume} \n",
    "                       for symbol, stock in self.stocks.items()},\n",
    "            \"events\": self.events\n",
    "        }\n",
    "\n",
    "    def get_stock_history(self, symbol):\n",
    "        if symbol not in self.stocks:\n",
    "            return None\n",
    "        return self.stocks[symbol].history\n",
    "    def get_state(self):\n",
    "        return {\n",
    "            \"time\": self.current_time,\n",
    "            \"stocks\": {symbol: {\"price\": stock.price, \"volume\": stock.volume} \n",
    "                       for symbol, stock in self.stocks.items()},\n",
    "            \"events\": self.events\n",
    "        }\n",
    "\n",
    "    def place_order(self, symbol, order_type, quantity):\n",
    "        if symbol not in self.stocks:\n",
    "            return False, \"Invalid stock symbol\"\n",
    "        \n",
    "        stock = self.stocks[symbol]\n",
    "        price_impact = 0.0001 * quantity  # 0.01% price impact per 100 shares\n",
    "\n",
    "        if order_type == \"buy\":\n",
    "            stock.volume += quantity\n",
    "            stock.update_price(price_impact)  # Price increases on buy\n",
    "            return True, f\"Bought {quantity} shares of {symbol} at {stock.price}\"\n",
    "        elif order_type == \"sell\":\n",
    "            stock.volume -= quantity\n",
    "            stock.update_price(-price_impact)  # Price decreases on sell\n",
    "            return True, f\"Sold {quantity} shares of {symbol} at {stock.price}\"\n",
    "        else:\n",
    "            return False, \"Invalid order type\""
   ]
  },
  {
   "cell_type": "markdown",
   "metadata": {},
   "source": [
    "## Traders"
   ]
  },
  {
   "cell_type": "code",
   "execution_count": 11,
   "metadata": {},
   "outputs": [],
   "source": [
    "class Trader(StockAgent):\n",
    "    def __init__(self, name, initial_balance, llm, market_outlook, confidence):\n",
    "        super().__init__(\"Trader\", llm)\n",
    "        self.name = name\n",
    "        self.balance = initial_balance\n",
    "        self.portfolio = {}\n",
    "        self.llm = llm\n",
    "        self.market_outlook = market_outlook\n",
    "        self.logger = logging.getLogger(name)\n",
    "        self.confidence = confidence\n",
    "\n",
    "    def act(self, state):\n",
    "        market = state['market']\n",
    "        market_state = market.get_state()\n",
    "        \n",
    "        for symbol, stock_data in market_state['stocks'].items():\n",
    "            analysis = self.analyze_stock(symbol, stock_data, market)\n",
    "            if analysis['action'] != 'hold':\n",
    "                self.execute_trade(symbol, analysis['action'], analysis['quantity'], stock_data['price'], market)\n",
    "\n",
    "        return state\n",
    "\n",
    "    def analyze_stock(self, symbol, stock_data, market):\n",
    "        # Get stock history\n",
    "        history = market.get_stock_history(symbol)\n",
    "        if not history or len(history) < 20:\n",
    "            return {'action': 'hold', 'quantity': 0}\n",
    "\n",
    "        # Calculate simple moving averages\n",
    "        prices = [entry['price'] for entry in history]\n",
    "        sma_5 = sum(prices[-5:]) / 5\n",
    "        sma_20 = sum(prices[-20:]) / 20\n",
    "\n",
    "        current_price = stock_data['price']\n",
    "\n",
    "        # Prepare prompt for LLM\n",
    "        prompt = ChatPromptTemplate.from_template(\"\"\"\n",
    "        You are a stock trader assistant. Analyze the following data and suggest an action:\n",
    "        Stock: {symbol}\n",
    "        Current Price: {current_price}\n",
    "        5-day SMA: {sma_5}\n",
    "        20-day SMA: {sma_20}\n",
    "        Recent events: {events}\n",
    "\n",
    "        Your market outlook is {market_outlook}\n",
    "\n",
    "        Suggest an action (buy, sell, or hold) and a confidence score (0-100) based on this data.\n",
    "        Respond in the format: ACTION,CONFIDENCE\n",
    "        \"\"\")\n",
    "\n",
    "        self.logger.info(f\"Sending prompt to LLM for {symbol}\")\n",
    "        response = self.llm(prompt.format_messages(\n",
    "            symbol=symbol,\n",
    "            current_price=current_price,\n",
    "            sma_5=sma_5,\n",
    "            sma_20=sma_20,\n",
    "            events=\", \".join(market.get_state()['events']),\n",
    "            market_outlook=self.market_outlook\n",
    "        ))\n",
    "\n",
    "        self.logger.info(f\"LLM response for {symbol}: {response.content}\")\n",
    "\n",
    "        action, confidence = response.content.strip().split(',')\n",
    "        confidence = int(confidence) / 100  # Convert to a 0-1 scale\n",
    "        quantity = int(100 * confidence * self.confidence)  # Adjust quantity based on confidence\n",
    "        return {'action': action.lower(), 'quantity': quantity}\n",
    "\n",
    "    def execute_trade(self, symbol, action, quantity, price, market):\n",
    "        self.logger.info(f\"Attempting to execute trade: {action} {quantity} shares of {symbol} at {price}\")\n",
    "        if action == 'buy':\n",
    "            cost = quantity * price\n",
    "            self.logger.info(f\"Cost of trade: {cost}, Current balance: {self.balance}\")\n",
    "            if self.balance >= cost:\n",
    "                success, message = market.place_order(symbol, 'buy', quantity)\n",
    "                self.logger.info(f\"Market order result: success={success}, message={message}\")\n",
    "                if success:\n",
    "                    self.balance -= cost\n",
    "                    self.portfolio[symbol] = self.portfolio.get(symbol, 0) + quantity\n",
    "                    self.logger.info(f\"{self.name} bought {quantity} shares of {symbol} at {price}\")\n",
    "                else:\n",
    "                    self.logger.warning(f\"Trade failed: {message}\")\n",
    "            else:\n",
    "                self.logger.warning(f\"{self.name} doesn't have enough balance to buy {quantity} shares of {symbol}\")\n",
    "        elif action == 'sell':\n",
    "            self.logger.info(f\"Current portfolio for {symbol}: {self.portfolio.get(symbol, 0)}\")\n",
    "            if symbol in self.portfolio and self.portfolio[symbol] >= quantity:\n",
    "                success, message = market.place_order(symbol, 'sell', quantity)\n",
    "                self.logger.info(f\"Market order result: success={success}, message={message}\")\n",
    "                if success:\n",
    "                    self.balance += quantity * price\n",
    "                    self.portfolio[symbol] -= quantity\n",
    "                    self.logger.info(f\"{self.name} sold {quantity} shares of {symbol} at {price}\")\n",
    "                else:\n",
    "                    self.logger.warning(f\"Trade failed: {message}\")\n",
    "            else:\n",
    "                self.logger.warning(f\"{self.name} doesn't have enough shares of {symbol} to sell\")\n",
    "\n",
    "    def get_portfolio_value(self, market):\n",
    "        market_state = market.get_state()\n",
    "        total_value = self.balance\n",
    "        for symbol, quantity in self.portfolio.items():\n",
    "            if symbol in market_state['stocks']:\n",
    "                total_value += quantity * market_state['stocks'][symbol]['price']\n",
    "        return total_value"
   ]
  },
  {
   "cell_type": "markdown",
   "metadata": {},
   "source": [
    "## Analysts\n"
   ]
  },
  {
   "cell_type": "code",
   "execution_count": 12,
   "metadata": {},
   "outputs": [],
   "source": [
    "# TBD"
   ]
  },
  {
   "cell_type": "code",
   "execution_count": 13,
   "metadata": {},
   "outputs": [],
   "source": [
    "prompt = ChatPromptTemplate.from_template(\"\"\"Answer the following questions as best you can. You have access to the following tools:\n",
    "\n",
    "{tools}\n",
    "\n",
    "Use the following format:\n",
    "\n",
    "Question: the input question you must answer\n",
    "Thought: you should always think about what to do\n",
    "Action: the action to take, should be one of [{tool_names}]\n",
    "Action Input: the input to the action\n",
    "Observation: the result of the action\n",
    "... (this Thought/Action/Action Input/Observation can repeat N times)\n",
    "Thought: I now know the final answer\n",
    "Final Answer: the final answer to the original input question\n",
    "\n",
    "Question: {input}\n",
    "{agent_scratchpad}\"\"\")"
   ]
  },
  {
   "cell_type": "code",
   "execution_count": 14,
   "metadata": {},
   "outputs": [
    {
     "name": "stderr",
     "output_type": "stream",
     "text": [
      "c:\\Users\\Alfred\\.julia\\conda\\3\\envs\\hmm\\Lib\\site-packages\\langchain_core\\_api\\deprecation.py:139: LangChainDeprecationWarning: The class `ChatOpenAI` was deprecated in LangChain 0.0.10 and will be removed in 0.3.0. An updated version of the class exists in the langchain-openai package and should be used instead. To use it run `pip install -U langchain-openai` and import as `from langchain_openai import ChatOpenAI`.\n",
      "  warn_deprecated(\n"
     ]
    }
   ],
   "source": [
    "market = StockMarket()\n",
    "trader1 = Trader(\"bull\", initial_balance=1000000, llm=ChatOpenAI(), market_outlook=\"bullish\", confidence=1)\n",
    "trader2 = Trader(\"bear\", initial_balance=1000000, llm=ChatOpenAI(), market_outlook=\"bearish\", confidence=1)\n",
    "trader3 = Trader(\"neutral\", initial_balance=1000000, llm=ChatOpenAI(), market_outlook=\"neutral\", confidence=1)"
   ]
  },
  {
   "cell_type": "markdown",
   "metadata": {},
   "source": [
    "# All together"
   ]
  },
  {
   "cell_type": "code",
   "execution_count": 15,
   "metadata": {},
   "outputs": [],
   "source": [
    "def create_stock_market_graph():\n",
    "    market = StockMarket()\n",
    "\n",
    "    trader1 = Trader(\"Trader1\", ChatOpenAI())\n",
    "    trader2 = Trader(\"Trader2\", ChatOpenAI())\n",
    "    #analyst1 = Analyst(\"Analyst1\", ChatOpenAI())\n",
    "    #analyst2 = Analyst(\"Analyst2\", ChatOpenAI())\n",
    "\n",
    "    workflow = langgraph.Graph()\n",
    "\n",
    "    # Define nodes\n",
    "    workflow.add_node(\"market_update\", market.update)\n",
    "    workflow.add_node(\"trader1\", trader1.act)\n",
    "    workflow.add_node(\"trader2\", trader2.act)\n",
    "    #workflow.add_node(\"analyst1\", analyst1.act)\n",
    "    #workflow.add_node(\"analyst2\", analyst2.act)\n",
    "\n",
    "    # Define edges (information flow)\n",
    "    workflow.add_edge(\"market_update\", \"trader1\")\n",
    "    workflow.add_edge(\"market_update\", \"trader2\")\n",
    "    #workflow.add_edge(\"market_update\", \"analyst1\")\n",
    "    #workflow.add_edge(\"market_update\", \"analyst2\")\n",
    "\n",
    "    #workflow.add_edge(\"analyst1\", \"trader1\")\n",
    "    #workflow.add_edge(\"analyst1\", \"trader2\")\n",
    "    #workflow.add_edge(\"analyst2\", \"trader1\")\n",
    "    #workflow.add_edge(\"analyst2\", \"trader2\")\n",
    "\n",
    "    return workflow"
   ]
  },
  {
   "cell_type": "code",
   "execution_count": 16,
   "metadata": {},
   "outputs": [
    {
     "name": "stdout",
     "output_type": "stream",
     "text": [
      "\n",
      "After iteration 1:\n",
      "ABC: $152.65\n",
      "DEF: $2790.87\n",
      "GHI: $3322.40\n",
      "Trader 1 (Confidence: 1.00) portfolio value: $1000000.00\n",
      "Trader 2 (Confidence: 1.00) portfolio value: $1000000.00\n",
      "Trader 3 (Confidence: 1.00) portfolio value: $1000000.00\n",
      "\n",
      "After iteration 2:\n",
      "ABC: $150.93\n",
      "DEF: $2751.33\n",
      "GHI: $3344.30\n",
      "Trader 1 (Confidence: 1.00) portfolio value: $1000000.00\n",
      "Trader 2 (Confidence: 1.00) portfolio value: $1000000.00\n",
      "Trader 3 (Confidence: 1.00) portfolio value: $1000000.00\n",
      "\n",
      "After iteration 3:\n",
      "ABC: $151.17\n",
      "DEF: $2708.92\n",
      "GHI: $3313.98\n",
      "Trader 1 (Confidence: 1.00) portfolio value: $1000000.00\n",
      "Trader 2 (Confidence: 1.00) portfolio value: $1000000.00\n",
      "Trader 3 (Confidence: 1.00) portfolio value: $1000000.00\n",
      "\n",
      "After iteration 4:\n",
      "ABC: $152.97\n",
      "DEF: $2675.13\n",
      "GHI: $3334.07\n",
      "Trader 1 (Confidence: 1.00) portfolio value: $1000000.00\n",
      "Trader 2 (Confidence: 1.00) portfolio value: $1000000.00\n",
      "Trader 3 (Confidence: 1.00) portfolio value: $1000000.00\n",
      "\n",
      "After iteration 5:\n",
      "ABC: $151.28\n",
      "DEF: $2624.04\n",
      "GHI: $3290.96\n",
      "Trader 1 (Confidence: 1.00) portfolio value: $1000000.00\n",
      "Trader 2 (Confidence: 1.00) portfolio value: $1000000.00\n",
      "Trader 3 (Confidence: 1.00) portfolio value: $1000000.00\n",
      "\n",
      "After iteration 6:\n",
      "ABC: $151.27\n",
      "DEF: $2652.05\n",
      "GHI: $3322.14\n",
      "Trader 1 (Confidence: 1.00) portfolio value: $1000000.00\n",
      "Trader 2 (Confidence: 1.00) portfolio value: $1000000.00\n",
      "Trader 3 (Confidence: 1.00) portfolio value: $1000000.00\n",
      "\n",
      "After iteration 7:\n",
      "ABC: $151.50\n",
      "DEF: $2691.49\n",
      "GHI: $3340.92\n",
      "Trader 1 (Confidence: 1.00) portfolio value: $1000000.00\n",
      "Trader 2 (Confidence: 1.00) portfolio value: $1000000.00\n",
      "Trader 3 (Confidence: 1.00) portfolio value: $1000000.00\n",
      "\n",
      "After iteration 8:\n",
      "ABC: $151.92\n",
      "DEF: $2696.44\n",
      "GHI: $3324.80\n",
      "Trader 1 (Confidence: 1.00) portfolio value: $1000000.00\n",
      "Trader 2 (Confidence: 1.00) portfolio value: $1000000.00\n",
      "Trader 3 (Confidence: 1.00) portfolio value: $1000000.00\n",
      "\n",
      "After iteration 9:\n",
      "ABC: $154.29\n",
      "DEF: $2692.55\n",
      "GHI: $3275.51\n",
      "Trader 1 (Confidence: 1.00) portfolio value: $1000000.00\n",
      "Trader 2 (Confidence: 1.00) portfolio value: $1000000.00\n",
      "Trader 3 (Confidence: 1.00) portfolio value: $1000000.00\n",
      "\n",
      "After iteration 10:\n",
      "ABC: $152.22\n",
      "DEF: $2726.23\n",
      "GHI: $3285.85\n",
      "Trader 1 (Confidence: 1.00) portfolio value: $1000000.00\n",
      "Trader 2 (Confidence: 1.00) portfolio value: $1000000.00\n",
      "Trader 3 (Confidence: 1.00) portfolio value: $1000000.00\n"
     ]
    }
   ],
   "source": [
    "# Simulate market updates\n",
    "for i in range(10):\n",
    "    market.update()\n",
    "    state = {\"market\": market}\n",
    "    trader1.act(state)\n",
    "    trader2.act(state)\n",
    "    trader3.act(state)\n",
    "    \n",
    "    print(f\"\\nAfter iteration {i+1}:\")\n",
    "    for symbol, stock in market.stocks.items():\n",
    "        print(f\"{symbol}: ${stock.price:.2f}\")\n",
    "    print(f\"Trader 1 (Confidence: {trader1.confidence:.2f}) portfolio value: ${trader1.get_portfolio_value(market):.2f}\")\n",
    "    print(f\"Trader 2 (Confidence: {trader2.confidence:.2f}) portfolio value: ${trader2.get_portfolio_value(market):.2f}\")\n",
    "    print(f\"Trader 3 (Confidence: {trader3.confidence:.2f}) portfolio value: ${trader3.get_portfolio_value(market):.2f}\")"
   ]
  },
  {
   "cell_type": "code",
   "execution_count": null,
   "metadata": {},
   "outputs": [],
   "source": []
  }
 ],
 "metadata": {
  "kernelspec": {
   "display_name": "Python 3",
   "language": "python",
   "name": "python3"
  },
  "language_info": {
   "codemirror_mode": {
    "name": "ipython",
    "version": 3
   },
   "file_extension": ".py",
   "mimetype": "text/x-python",
   "name": "python",
   "nbconvert_exporter": "python",
   "pygments_lexer": "ipython3",
   "version": "3.11.3"
  }
 },
 "nbformat": 4,
 "nbformat_minor": 2
}

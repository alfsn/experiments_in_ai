{
 "cells": [
  {
   "cell_type": "markdown",
   "metadata": {},
   "source": [
    "This notebook is designed to request from the LLM_apify.py API which is created using FastAPI."
   ]
  },
  {
   "cell_type": "code",
   "execution_count": 1,
   "metadata": {},
   "outputs": [
    {
     "data": {
      "text/plain": [
       "True"
      ]
     },
     "execution_count": 1,
     "metadata": {},
     "output_type": "execute_result"
    }
   ],
   "source": [
    "import os\n",
    "from dotenv import load_dotenv\n",
    "load_dotenv()"
   ]
  },
  {
   "cell_type": "code",
   "execution_count": 4,
   "metadata": {},
   "outputs": [],
   "source": [
    "import requests\n",
    "\n",
    "text_to_summarize = \"\"\"Karpathy was born in Bratislava, Czechoslovakia (now Slovakia)[9][10][11][12] and moved with his family to Toronto when he was 15.[13] He completed his Computer Science and Physics bachelor's degrees at University of Toronto in 2009[14] and his master's degree at University of British Columbia in 2011,[14] where he worked on physically-simulated figures (for example, a simulated runner or a simulated person in a crowd). Karpathy received a PhD from Stanford University in 2015 under the supervision of Fei-Fei Li, focusing on the intersection of natural language processing and computer vision, and deep learning models suited for this task.[15][16] He authored and was the primary instructor of the first deep learning course at Stanford, CS 231n: Convolutional Neural Networks for Visual Recognition.[17] It became one of the largest classes at Stanford, growing from 150 students in 2015 to 750 in 2017.[18] Karpathy is a founding member of the artificial intelligence research group OpenAI,[19][20] where he was a research scientist from 2015 to 2017.[18] In June 2017 he became Tesla's director of artificial intelligence and reported to Elon Musk.[21][7][22] He was named one of MIT Technology Review's Innovators Under 35 for 2020.[23] After taking a several months-long sabbatical from Tesla, he announced he was leaving the company in July 2022.[24] As of February 2023, he makes YouTube videos on how to create artificial neural networks.[25] It was reported on February 9 2023 that Karpathy had announced he was returning to OpenAI.[26] A year later on February 13 2024, an OpenAI spokesperson confirmed that Karpathy had left OpenAI. [27]\"\"\""
   ]
  },
  {
   "cell_type": "code",
   "execution_count": 5,
   "metadata": {},
   "outputs": [],
   "source": [
    "# text as JSON\n",
    "data = {\"text\": text_to_summarize}\n",
    "\n",
    "url = \"http://localhost:80/summarize-text\" \n",
    "#url = \"http://localhost/summarize-text\"\n",
    "\n",
    "# Headers\n",
    "headers = {'Content-Type': 'application/json'}\n",
    "\n",
    "response = requests.post(url, json=data, headers=headers)\n",
    "#response = requests.get(url, params=params, headers=headers)\n"
   ]
  },
  {
   "cell_type": "code",
   "execution_count": 13,
   "metadata": {},
   "outputs": [],
   "source": [
    "def get_response(response):\n",
    "  # Check for successful response\n",
    "  if response.status_code == 200:\n",
    "    # Get the summarized text from the JSON response\n",
    "    summary = response.json()[\"summary\"]\n",
    "    print(f\"Summary: {summary}\")\n",
    "    return summary\n",
    "  else:\n",
    "    print(f\"Error: {response.status_code}\")\n",
    "    print(f\"Response content: {response.text}\")"
   ]
  },
  {
   "cell_type": "code",
   "execution_count": 15,
   "metadata": {},
   "outputs": [
    {
     "name": "stdout",
     "output_type": "stream",
     "text": [
      "Summary: \n",
      "Andrej Karpathy is a computer scientist and artificial intelligence researcher who was born in Czechoslovakia and moved to Toronto at the age of 15. He completed his education at the University of Toronto and the University of British Columbia, and received his PhD from Stanford University in 2015. He is known for his work at OpenAI and Tesla, and was named one of MIT Technology Review's Innovators Under 35 in 2020. After leaving Tesla in 2022, he began creating YouTube videos on artificial neural networks and later returned to OpenAI in 2023 before leaving again in 2024.\n"
     ]
    }
   ],
   "source": [
    "summary=get_response(response)"
   ]
  },
  {
   "cell_type": "code",
   "execution_count": 16,
   "metadata": {},
   "outputs": [
    {
     "name": "stdout",
     "output_type": "stream",
     "text": [
      "Summary: \n",
      "Andrej Karpathy is a renowned computer scientist and artificial intelligence researcher who was born in Czechoslovakia and moved to Toronto at a young age. He received his education from top universities and earned his PhD from Stanford University. He has worked at prestigious companies such as OpenAI and Tesla, and was recognized as one of MIT Technology Review's Innovators Under 35 in 2020. He left Tesla in 2022 to focus on creating educational YouTube videos on artificial neural networks, but later returned to OpenAI in 2023 before leaving again in 2024.\n"
     ]
    }
   ],
   "source": [
    "# call it again\n",
    "response = requests.post(url, json={\"text\": summary}, headers=headers)\n",
    "summary=get_response(response)"
   ]
  }
 ],
 "metadata": {
  "kernelspec": {
   "display_name": "Python 3",
   "language": "python",
   "name": "python3"
  },
  "language_info": {
   "codemirror_mode": {
    "name": "ipython",
    "version": 3
   },
   "file_extension": ".py",
   "mimetype": "text/x-python",
   "name": "python",
   "nbconvert_exporter": "python",
   "pygments_lexer": "ipython3",
   "version": "3.11.5"
  }
 },
 "nbformat": 4,
 "nbformat_minor": 2
}

{
 "cells": [
  {
   "cell_type": "markdown",
   "metadata": {},
   "source": [
    "Esta notebook busca implementar manualmente Gradient Descent creando una función determinista con ruido, una función de pérdida y calcular las derivadas de esta en función de los movimientos de los parámetros"
   ]
  },
  {
   "cell_type": "markdown",
   "metadata": {},
   "source": [
    "Esto está basado en la clase 3 del curso de Jeremy Howard de fastai"
   ]
  },
  {
   "cell_type": "code",
   "execution_count": 1,
   "metadata": {},
   "outputs": [],
   "source": [
    "from functools import partial\n",
    "import numpy as np\n",
    "from numpy.random import normal, seed, uniform\n",
    "import matplotlib.pyplot as plt\n",
    "import torch\n",
    "from ipywidgets import interact\n",
    "\n",
    "np.random.seed(42)"
   ]
  },
  {
   "cell_type": "code",
   "execution_count": 2,
   "metadata": {},
   "outputs": [],
   "source": [
    "def quadratic(a,b,c,x):\n",
    "    return a*x**2 + b*x + c"
   ]
  },
  {
   "cell_type": "code",
   "execution_count": 3,
   "metadata": {},
   "outputs": [],
   "source": [
    "def partial_quad(a,b,c):\n",
    "    return partial(quadratic, a, b, c)"
   ]
  },
  {
   "cell_type": "code",
   "execution_count": 4,
   "metadata": {},
   "outputs": [
    {
     "data": {
      "text/plain": [
       "14"
      ]
     },
     "execution_count": 4,
     "metadata": {},
     "output_type": "execute_result"
    }
   ],
   "source": [
    "quadratic(2, 2, 2, 2)"
   ]
  },
  {
   "cell_type": "code",
   "execution_count": 5,
   "metadata": {},
   "outputs": [
    {
     "data": {
      "text/plain": [
       "14"
      ]
     },
     "execution_count": 5,
     "metadata": {},
     "output_type": "execute_result"
    }
   ],
   "source": [
    "f = partial_quad(2,2,2)\n",
    "f(2)"
   ]
  },
  {
   "cell_type": "code",
   "execution_count": 6,
   "metadata": {},
   "outputs": [],
   "source": [
    "def noise(x, scale):\n",
    "    return normal(scale=scale, size=x.shape)\n",
    "\n",
    "def add_noise(x, mult, add):\n",
    "    return x * (1 + noise(x, mult)) + noise(x, add)"
   ]
  },
  {
   "cell_type": "code",
   "execution_count": 7,
   "metadata": {},
   "outputs": [
    {
     "data": {
      "text/plain": [
       "<matplotlib.collections.PathCollection at 0x2012fb60350>"
      ]
     },
     "execution_count": 7,
     "metadata": {},
     "output_type": "execute_result"
    },
    {
     "data": {
      "image/png": "[encoded data removed]",
      "text/plain": [
       "<Figure size 640x480 with 1 Axes>"
      ]
     },
     "metadata": {},
     "output_type": "display_data"
    }
   ],
   "source": [
    "x = torch.linspace(-2, 2, 20)[:,None]\n",
    "y = add_noise(f(x), 0.3, 1.5)\n",
    "plt.scatter(x, y)"
   ]
  },
  {
   "cell_type": "code",
   "execution_count": 8,
   "metadata": {},
   "outputs": [],
   "source": [
    "def mse(pred, actual): \n",
    "    return ((pred-actual)**2).mean()"
   ]
  },
  {
   "cell_type": "code",
   "execution_count": 9,
   "metadata": {},
   "outputs": [
    {
     "data": {
      "text/plain": [
       "tensor(6.0241, dtype=torch.float64)"
      ]
     },
     "execution_count": 9,
     "metadata": {},
     "output_type": "execute_result"
    }
   ],
   "source": [
    "loss = mse(f(x), y)\n",
    "loss"
   ]
  },
  {
   "cell_type": "markdown",
   "metadata": {},
   "source": [
    "Podemos hacer la minimización de pérdida \"a mano\""
   ]
  },
  {
   "cell_type": "code",
   "execution_count": 10,
   "metadata": {},
   "outputs": [
    {
     "data": {
      "application/vnd.jupyter.widget-view+json": {
       "model_id": "8bce4db9180a439b97e830a9523f74df",
       "version_major": 2,
       "version_minor": 0
      },
      "text/plain": [
       "interactive(children=(FloatSlider(value=1.5, description='a', max=4.5, min=-1.5), FloatSlider(value=1.5, descr…"
      ]
     },
     "metadata": {},
     "output_type": "display_data"
    }
   ],
   "source": [
    "@interact(a=1.5, b=1.5, c=1.5)\n",
    "def plot_quad(a,b,c):\n",
    "    f=partial_quad(a,b,c)\n",
    "    plt.scatter(x, y)\n",
    "    plt.plot(x, f(x))\n",
    "    loss = mse(f(x), y)\n",
    "    plt.title(f\"MSE = {loss:.2f}\")"
   ]
  },
  {
   "cell_type": "markdown",
   "metadata": {},
   "source": [
    "Podemos buscar la derivada con pytorch"
   ]
  },
  {
   "cell_type": "code",
   "execution_count": 11,
   "metadata": {},
   "outputs": [],
   "source": [
    "def quad_mse(params):\n",
    "    f = partial_quad(*params)\n",
    "    return mse(f(x), y)"
   ]
  },
  {
   "cell_type": "code",
   "execution_count": 12,
   "metadata": {},
   "outputs": [
    {
     "data": {
      "text/plain": [
       "tensor(3.0071, dtype=torch.float64)"
      ]
     },
     "execution_count": 12,
     "metadata": {},
     "output_type": "execute_result"
    }
   ],
   "source": [
    "quad_mse([1.5,1.5,1.5])"
   ]
  },
  {
   "cell_type": "markdown",
   "metadata": {},
   "source": [
    "Creamos un tensor y le pedimos que nos de la derivada"
   ]
  },
  {
   "cell_type": "code",
   "execution_count": 13,
   "metadata": {},
   "outputs": [
    {
     "data": {
      "text/plain": [
       "tensor([1.5000, 1.5000, 1.5000], requires_grad=True)"
      ]
     },
     "execution_count": 13,
     "metadata": {},
     "output_type": "execute_result"
    }
   ],
   "source": [
    "abc=torch.tensor([1.5,1.5,1.5])\n",
    "\n",
    "abc.requires_grad_(True) "
   ]
  },
  {
   "cell_type": "code",
   "execution_count": 14,
   "metadata": {},
   "outputs": [
    {
     "data": {
      "text/plain": [
       "tensor(3.0071, dtype=torch.float64, grad_fn=<MeanBackward0>)"
      ]
     },
     "execution_count": 14,
     "metadata": {},
     "output_type": "execute_result"
    }
   ],
   "source": [
    "loss = quad_mse(abc)\n",
    "loss"
   ]
  },
  {
   "cell_type": "markdown",
   "metadata": {},
   "source": [
    "loss ahora contiene el gradiente"
   ]
  },
  {
   "cell_type": "code",
   "execution_count": 15,
   "metadata": {},
   "outputs": [],
   "source": [
    "loss.backward()"
   ]
  },
  {
   "cell_type": "code",
   "execution_count": 16,
   "metadata": {},
   "outputs": [
    {
     "data": {
      "text/plain": [
       "tensor([-0.7223,  2.3430, -0.2451])"
      ]
     },
     "execution_count": 16,
     "metadata": {},
     "output_type": "execute_result"
    }
   ],
   "source": [
    "abc.grad"
   ]
  },
  {
   "cell_type": "markdown",
   "metadata": {},
   "source": [
    "Estas son las derivadas parciales de la funcion de pérdida en función de los cambios en los parámetros a, b y c.  \n",
    "  \n",
    "Como queremos minimizar la función de pérdida, queremos aumentar las variables positivas y disminuir las negativas.  \n",
    "Por consiguiente, el ajuste va en dirección contraria de la derivada parcial (negativo).  \n",
    "Buscando un óptimo (0, 0, 0), determinamos un step_size de 0.01."
   ]
  },
  {
   "cell_type": "code",
   "execution_count": 17,
   "metadata": {},
   "outputs": [
    {
     "name": "stdout",
     "output_type": "stream",
     "text": [
      "loss  tensor(2.9474, dtype=torch.float64)\n"
     ]
    }
   ],
   "source": [
    "with torch.no_grad(): \n",
    "    # esto hace que no calcule el gradiente del tensor durante este bloque de código\n",
    "    abc = abc - abc.grad*0.01 \n",
    "    loss = quad_mse(abc)\n",
    "\n",
    "print(\"loss \", loss)"
   ]
  },
  {
   "cell_type": "markdown",
   "metadata": {},
   "source": [
    "Vemos que la función de pérdida va cayendo"
   ]
  },
  {
   "cell_type": "code",
   "execution_count": 18,
   "metadata": {},
   "outputs": [
    {
     "data": {
      "text/plain": [
       "tensor([1.5072, 1.4766, 1.5025], requires_grad=True)"
      ]
     },
     "execution_count": 18,
     "metadata": {},
     "output_type": "execute_result"
    }
   ],
   "source": [
    "abc.requires_grad_(True)"
   ]
  },
  {
   "cell_type": "code",
   "execution_count": 19,
   "metadata": {},
   "outputs": [
    {
     "data": {
      "text/plain": [
       "tensor(2.9474, dtype=torch.float64)"
      ]
     },
     "execution_count": 19,
     "metadata": {},
     "output_type": "execute_result"
    }
   ],
   "source": [
    "loss"
   ]
  },
  {
   "cell_type": "code",
   "execution_count": 20,
   "metadata": {},
   "outputs": [
    {
     "name": "stdout",
     "output_type": "stream",
     "text": [
      "Paso 0, pérdida=2.95\n",
      "Paso 1, pérdida=2.89\n",
      "Paso 2, pérdida=2.84\n",
      "Paso 3, pérdida=2.79\n",
      "Paso 4, pérdida=2.75\n",
      "Paso 5, pérdida=2.70\n",
      "Paso 6, pérdida=2.66\n",
      "Paso 7, pérdida=2.63\n",
      "Paso 8, pérdida=2.59\n",
      "Paso 9, pérdida=2.56\n",
      "Paso 10, pérdida=2.53\n",
      "Paso 11, pérdida=2.50\n",
      "Paso 12, pérdida=2.47\n",
      "Paso 13, pérdida=2.45\n",
      "Paso 14, pérdida=2.42\n",
      "Paso 15, pérdida=2.40\n",
      "Paso 16, pérdida=2.38\n",
      "Paso 17, pérdida=2.36\n",
      "Paso 18, pérdida=2.34\n",
      "Paso 19, pérdida=2.33\n"
     ]
    }
   ],
   "source": [
    "for i in range(20):\n",
    "    loss = quad_mse(abc.requires_grad_(True))\n",
    "    loss.backward()\n",
    "    with torch.no_grad():\n",
    "        abc = abc - abc.grad*0.01\n",
    "    print(f\"Paso {i}, pérdida={loss:.2f}\")"
   ]
  },
  {
   "cell_type": "code",
   "execution_count": 21,
   "metadata": {},
   "outputs": [
    {
     "data": {
      "text/plain": [
       "tensor([1.5711, 1.1292, 1.5186])"
      ]
     },
     "execution_count": 21,
     "metadata": {},
     "output_type": "execute_result"
    }
   ],
   "source": [
    "abc"
   ]
  },
  {
   "cell_type": "markdown",
   "metadata": {},
   "source": [
    "# REctified Linear Units"
   ]
  },
  {
   "cell_type": "code",
   "execution_count": 23,
   "metadata": {},
   "outputs": [],
   "source": [
    "def rectified_linear(m, b, x):\n",
    "    y = m * x + b\n",
    "    # esta es una funcion lineal\n",
    "    return torch.clip(y, 0.) # clip hace que todo lo que sea negativo se haga cero"
   ]
  },
  {
   "cell_type": "code",
   "execution_count": 27,
   "metadata": {},
   "outputs": [
    {
     "data": {
      "text/plain": [
       "[<matplotlib.lines.Line2D at 0x20138b27390>]"
      ]
     },
     "execution_count": 27,
     "metadata": {},
     "output_type": "execute_result"
    },
    {
     "data": {
      "image/png": "[encoded data removed]",
      "text/plain": [
       "<Figure size 640x480 with 1 Axes>"
      ]
     },
     "metadata": {},
     "output_type": "display_data"
    }
   ],
   "source": [
    "plt.plot(x, partial(rectified_linear, 1, 1)(x))"
   ]
  },
  {
   "cell_type": "code",
   "execution_count": 28,
   "metadata": {},
   "outputs": [],
   "source": [
    "def double_relu(m1, m2, b1, b2, x):\n",
    "    return rectified_linear(m1, b1, x) + rectified_linear(m2, b2, x)"
   ]
  },
  {
   "cell_type": "code",
   "execution_count": 30,
   "metadata": {},
   "outputs": [
    {
     "data": {
      "application/vnd.jupyter.widget-view+json": {
       "model_id": "914300c46076427b89c3817705293c03",
       "version_major": 2,
       "version_minor": 0
      },
      "text/plain": [
       "interactive(children=(FloatSlider(value=1.5, description='m1', max=4.5, min=-1.5), FloatSlider(value=1.5, desc…"
      ]
     },
     "metadata": {},
     "output_type": "display_data"
    }
   ],
   "source": [
    "@interact(m1=1.5, m2=1.5, b1=1.5, b2=1.5)\n",
    "def plot_double_relu(m1, m2, b1, b2):\n",
    "    plt.plot(x, partial(double_relu, m1, m2, b1, b2)(x))"
   ]
  },
  {
   "cell_type": "markdown",
   "metadata": {},
   "source": [
    "Podemos agregar una cantidad arbitraria de relus, lo cual permite aproximar arbitrariamente funciones.  \n",
    "ADD MORE LAYERS"
   ]
  },
  {
   "cell_type": "markdown",
   "metadata": {},
   "source": [
    "# Con multiplicacion matricial\n",
    "Podemos simplificar el cálculo de las ReLus usando multiplicacion matricial.  \n",
    "El cálculo es $X *  \\beta =  \\Epsilon$  \n",
    "donde X son los datos, $ \\beta$ los coeficientes,  \n",
    "y luego se rectifica $ \\Epsilon$ usando la función $min(\\epsilon_{ij}, 0)$"
   ]
  },
  {
   "cell_type": "code",
   "execution_count": 196,
   "metadata": {},
   "outputs": [],
   "source": [
    "n_relus=5\n",
    "params_by_relu = 2"
   ]
  },
  {
   "cell_type": "markdown",
   "metadata": {},
   "source": [
    "Cada relu tiene dos parametros, m y b"
   ]
  },
  {
   "cell_type": "code",
   "execution_count": 198,
   "metadata": {},
   "outputs": [
    {
     "data": {
      "text/plain": [
       "tensor([[ 0.4415, -0.1139],\n",
       "        [ 0.4612,  0.4054],\n",
       "        [-0.3042, -0.4306],\n",
       "        [-0.3992, -0.4818],\n",
       "        [-0.4056,  0.1830]])"
      ]
     },
     "execution_count": 198,
     "metadata": {},
     "output_type": "execute_result"
    }
   ],
   "source": [
    "beta = np.random.rand(n_relus, params_by_relu) - 0.5\n",
    "# inicializo random cerca de cero\n",
    "beta = torch.from_numpy(beta)\n",
    "beta = beta.to(torch.float32)\n",
    "beta"
   ]
  },
  {
   "cell_type": "markdown",
   "metadata": {},
   "source": [
    "Para que esto funcione, tenemos que ponerle una columna de 1s a la x, que son la multiplicacion de la constante"
   ]
  },
  {
   "cell_type": "code",
   "execution_count": 199,
   "metadata": {},
   "outputs": [
    {
     "data": {
      "text/plain": [
       "tensor([[-2.0000,  1.0000],\n",
       "        [-1.7895,  1.0000],\n",
       "        [-1.5789,  1.0000],\n",
       "        [-1.3684,  1.0000],\n",
       "        [-1.1579,  1.0000]])"
      ]
     },
     "execution_count": 199,
     "metadata": {},
     "output_type": "execute_result"
    }
   ],
   "source": [
    "ones = torch.ones(x.shape[0], 1)\n",
    "X = torch.cat((x, ones), dim=1)\n",
    "X[:5]"
   ]
  },
  {
   "cell_type": "code",
   "execution_count": 200,
   "metadata": {},
   "outputs": [
    {
     "data": {
      "text/plain": [
       "tensor([[-0.9968, -0.5170,  0.1778,  0.3167,  0.9941],\n",
       "        [-0.9039, -0.4199,  0.1137,  0.2326,  0.9087],\n",
       "        [-0.8109, -0.3228,  0.0497,  0.1486,  0.8234],\n",
       "        [-0.7180, -0.2258, -0.0144,  0.0645,  0.7380],\n",
       "        [-0.6251, -0.1287, -0.0784, -0.0195,  0.6526]])"
      ]
     },
     "execution_count": 200,
     "metadata": {},
     "output_type": "execute_result"
    }
   ],
   "source": [
    "E = torch.matmul(X, beta.T)\n",
    "E[:5]"
   ]
  },
  {
   "cell_type": "markdown",
   "metadata": {},
   "source": [
    "Estos son los resultados de las linear units (sin rectificar)"
   ]
  },
  {
   "cell_type": "code",
   "execution_count": 201,
   "metadata": {},
   "outputs": [
    {
     "data": {
      "text/plain": [
       "tensor([[0.0000, 0.0000, 0.1778, 0.3167, 0.9941],\n",
       "        [0.0000, 0.0000, 0.1137, 0.2326, 0.9087],\n",
       "        [0.0000, 0.0000, 0.0497, 0.1486, 0.8234],\n",
       "        [0.0000, 0.0000, 0.0000, 0.0645, 0.7380],\n",
       "        [0.0000, 0.0000, 0.0000, 0.0000, 0.6526]])"
      ]
     },
     "execution_count": 201,
     "metadata": {},
     "output_type": "execute_result"
    }
   ],
   "source": [
    "E_r = torch.clip(E, 0)\n",
    "E_r[:5]"
   ]
  },
  {
   "cell_type": "markdown",
   "metadata": {},
   "source": [
    "ahi estan rectificados.  \n",
    "\n",
    "Para obtener el valor del $\\hat{y}$ hay que sumar across"
   ]
  },
  {
   "cell_type": "code",
   "execution_count": 202,
   "metadata": {},
   "outputs": [
    {
     "data": {
      "text/plain": [
       "tensor([1.4886, 1.2551, 1.0216, 0.8025, 0.6526])"
      ]
     },
     "execution_count": 202,
     "metadata": {},
     "output_type": "execute_result"
    }
   ],
   "source": [
    "Y_hat = torch.sum(E_r, dim=1)\n",
    "Y_hat[:5]"
   ]
  },
  {
   "cell_type": "markdown",
   "metadata": {},
   "source": [
    "A esto le podemos calcular un mse."
   ]
  },
  {
   "cell_type": "code",
   "execution_count": 203,
   "metadata": {},
   "outputs": [
    {
     "data": {
      "text/plain": [
       "tensor(15.2711, dtype=torch.float64)"
      ]
     },
     "execution_count": 203,
     "metadata": {},
     "output_type": "execute_result"
    }
   ],
   "source": [
    "mse(actual=y, pred=Y_hat)"
   ]
  },
  {
   "cell_type": "code",
   "execution_count": 204,
   "metadata": {},
   "outputs": [
    {
     "data": {
      "text/plain": [
       "tensor([[ 0.4415, -0.1139],\n",
       "        [ 0.4612,  0.4054],\n",
       "        [-0.3042, -0.4306],\n",
       "        [-0.3992, -0.4818],\n",
       "        [-0.4056,  0.1830]], requires_grad=True)"
      ]
     },
     "execution_count": 204,
     "metadata": {},
     "output_type": "execute_result"
    }
   ],
   "source": [
    "beta.requires_grad_(True)\n",
    "beta"
   ]
  },
  {
   "cell_type": "markdown",
   "metadata": {},
   "source": [
    "En un loop de optimizacion:"
   ]
  },
  {
   "cell_type": "code",
   "execution_count": 214,
   "metadata": {},
   "outputs": [],
   "source": [
    "beta = np.random.rand(n_relus, params_by_relu) - 0.5\n",
    "# inicializo random cerca de cero\n",
    "beta = torch.from_numpy(beta)\n",
    "beta = beta.to(torch.float32)"
   ]
  },
  {
   "cell_type": "code",
   "execution_count": 216,
   "metadata": {},
   "outputs": [
    {
     "name": "stdout",
     "output_type": "stream",
     "text": [
      "Paso 5, pérdida=7.53\n",
      "Paso 10, pérdida=7.51\n",
      "Paso 15, pérdida=7.49\n",
      "Paso 20, pérdida=7.47\n",
      "Paso 25, pérdida=7.45\n",
      "Paso 30, pérdida=7.43\n",
      "Paso 35, pérdida=7.42\n",
      "Paso 40, pérdida=7.40\n",
      "Paso 45, pérdida=7.39\n",
      "Paso 50, pérdida=7.38\n"
     ]
    }
   ],
   "source": [
    "for i in range(1,51):\n",
    "    beta.requires_grad_(True)\n",
    "\n",
    "    E = torch.matmul(X, beta.T)\n",
    "    E_r = torch.clip(E, 0)\n",
    "    Y_hat = torch.sum(E_r, dim=1)\n",
    "\n",
    "    loss = mse(pred=Y_hat, actual=y)\n",
    "    \n",
    "    loss.backward(retain_graph=True)\n",
    "\n",
    "    with torch.no_grad():\n",
    "        beta = beta - beta.grad*0.01\n",
    "\n",
    "    if i%5==0:\n",
    "        print(f\"Paso {i}, pérdida={loss:.2f}\")"
   ]
  },
  {
   "cell_type": "markdown",
   "metadata": {},
   "source": [
    "# TODO:\n",
    "Me quedó peor MSE y peor gráfico que en la def quadratic. What?"
   ]
  },
  {
   "cell_type": "code",
   "execution_count": 218,
   "metadata": {},
   "outputs": [
    {
     "data": {
      "text/plain": [
       "<matplotlib.legend.Legend at 0x201390f6b50>"
      ]
     },
     "execution_count": 218,
     "metadata": {},
     "output_type": "execute_result"
    },
    {
     "data": {
      "image/png": "[encoded data removed]",
      "text/plain": [
       "<Figure size 640x480 with 1 Axes>"
      ]
     },
     "metadata": {},
     "output_type": "display_data"
    }
   ],
   "source": [
    "plt.plot(x, Y_hat.detach(), label='pred')\n",
    "plt.scatter(x, y, c='black')\n",
    "plt.legend()"
   ]
  }
 ],
 "metadata": {
  "language_info": {
   "name": "python"
  }
 },
 "nbformat": 4,
 "nbformat_minor": 2
}
